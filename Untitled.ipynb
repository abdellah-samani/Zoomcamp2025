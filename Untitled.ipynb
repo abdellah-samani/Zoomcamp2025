{
 "cells": [
  {
   "cell_type": "code",
   "execution_count": 1,
   "id": "bdc4a366-e9c0-49ba-a9b1-ea0b80aee48e",
   "metadata": {},
   "outputs": [
    {
     "name": "stdout",
     "output_type": "stream",
     "text": [
      "hello world from codespaces\n"
     ]
    }
   ],
   "source": [
    "print('hello world from codespaces')"
   ]
  },
  {
   "cell_type": "code",
   "execution_count": null,
   "id": "56ed0afb-d75c-467a-a488-0822d1ad42e1",
   "metadata": {},
   "outputs": [],
   "source": []
  }
 ],
 "metadata": {
  "kernelspec": {
   "display_name": "Python 3 (ipykernel)",
   "language": "python",
   "name": "python3"
  },
  "language_info": {
   "codemirror_mode": {
    "name": "ipython",
    "version": 3
   },
   "file_extension": ".py",
   "mimetype": "text/x-python",
   "name": "python",
   "nbconvert_exporter": "python",
   "pygments_lexer": "ipython3",
   "version": "3.12.1"
  }
 },
 "nbformat": 4,
 "nbformat_minor": 5
}
